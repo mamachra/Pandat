{
 "cells": [
  {
   "cell_type": "code",
   "execution_count": null,
   "metadata": {
    "collapsed": false
   },
   "outputs": [],
   "source": [
    "import xml.etree.ElementTree as ET\n",
    "tree = ET.parse('/Users/mahdiamachraa1/Desktop/invariant.table')\n",
    "root = tree.getroot()\n",
    "len(root)\n"
   ]
  },
  {
   "cell_type": "code",
   "execution_count": 63,
   "metadata": {
    "collapsed": false
   },
   "outputs": [
    {
     "name": "stdout",
     "output_type": "stream",
     "text": [
      "206.377\n"
     ]
    }
   ],
   "source": [
    "root[len(root)-1].attrib[\"T\"]\n",
    "check_str = str('Liquid+Ag3Sn+BCT')\n",
    "\n",
    "for i, ii in enumerate(root):\n",
    "    for key in root[i].attrib:\n",
    "        if root[i].attrib[key]  ==  check_str:\n",
    "            print(root[i].attrib['T'])\n",
    "            \n",
    "\n",
    "\n"
   ]
  },
  {
   "cell_type": "code",
   "execution_count": 57,
   "metadata": {
    "collapsed": false
   },
   "outputs": [
    {
     "name": "stdout",
     "output_type": "stream",
     "text": [
      "w_x0028_Sn_x0029_\n",
      "phase_name\n",
      "f_x0028__x0040_FCC_x0029_\n",
      "x_x0028_Ag_x0029_\n",
      "f_x0028__x0040_Ag3Sn_x0029_\n",
      "_x0023_phases\n",
      "reaction\n",
      "w_x0028_Ag_x0029_\n",
      "T\n",
      "f_x0028__x0040_BCT_x0029_\n",
      "x_x0028_Sn_x0029_\n",
      "f_x0028__x0040_Liquid_x0029_\n"
     ]
    }
   ],
   "source": [
    "for key in root[2].attrib:\n",
    "    print(key)"
   ]
  }
 ],
 "metadata": {
  "kernelspec": {
   "display_name": "Python 3",
   "language": "python",
   "name": "python3"
  },
  "language_info": {
   "codemirror_mode": {
    "name": "ipython",
    "version": 3
   },
   "file_extension": ".py",
   "mimetype": "text/x-python",
   "name": "python",
   "nbconvert_exporter": "python",
   "pygments_lexer": "ipython3",
   "version": "3.5.1"
  }
 },
 "nbformat": 4,
 "nbformat_minor": 0
}
