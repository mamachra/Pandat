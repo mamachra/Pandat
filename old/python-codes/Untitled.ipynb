{
 "cells": [
  {
   "cell_type": "code",
   "execution_count": null,
   "metadata": {
    "collapsed": false
   },
   "outputs": [],
   "source": [
    "########### CREATING all the different angles combinations\n",
    "import itertools \n",
    "import numpy as np\n",
    "import math\n",
    "comb = list(itertools.permutations(range(1,180,20),2))\n",
    "print(len(comb))\n",
    "comb_degree_cos = {}\n",
    "comb_degree_sin = {}\n",
    "comb_degree_3cos = {}\n",
    "comb_degree_3sin = {}\n",
    "for i,ii in enumerate(comb): \n",
    "    comb_degree_cos[ii] = (math.cos(math.radians(ii[0])),math.cos(math.radians(ii[1])))\n",
    "    comb_degree_sin[ii] = (math.sin(math.radians(ii[0])),math.sin(math.radians(ii[1])))\n",
    "    comb_degree_3cos[ii] = (math.cos(3*math.radians(ii[0])),math.cos(3*math.radians(ii[1])))"
   ]
  },
  {
   "cell_type": "code",
   "execution_count": 18,
   "metadata": {
    "collapsed": false
   },
   "outputs": [
    {
     "name": "stdout",
     "output_type": "stream",
     "text": [
      "106\n"
     ]
    }
   ],
   "source": [
    "##### Creating all the radiiii \n",
    "import numpy as np\n",
    "import itertools\n",
    "radii_all = []\n",
    "radii_nano = np.linspace(5,100,96)\n",
    "radii_bulk = np.linspace(100,1000,10)\n",
    "radii_all = list(itertools.chain(radii_nano,radii_bulk))\n",
    "#### Shape factors \n",
    "shape = {'spherical':1,'Regular_tetrahedral':1.49,'Regular_hexadral':1.24,'Regular_octahedral':1.18,'Disk-like':1.15,'Nanofilm':0.333}"
   ]
  },
  {
   "cell_type": "code",
   "execution_count": null,
   "metadata": {
    "collapsed": false
   },
   "outputs": [],
   "source": [
    "for key in shape:\n",
    "    print(\"{}\".format(shape[key]))"
   ]
  },
  {
   "cell_type": "code",
   "execution_count": null,
   "metadata": {
    "collapsed": false
   },
   "outputs": [],
   "source": [
    "# for key, keyy in zip(comb_degree_cos,comb_degree_sin):\n",
    "#     print(key, keyy)\n",
    "f = open('/Users/mahdiamachraa1/Ag-Sn/codes/angle.txt')\n",
    "lines = f.readlines()\n",
    "\n",
    "for key in comb_degree_cos:\n",
    "    \n",
    "    newf = open('/Users/mahdiamachraa1/Ag-Sn/codes/CONTACT-ANGLES/{}-{}.tdb'.format(key[0],key[1]), 'w')\n",
    "    newf.write(\"FUNCTION cosx_Ag 298.15 {}; 3000 N!\\n\".format(comb_degree_cos[key][0]))\n",
    "    newf.write(\"FUNCTION sinx_Ag 298.15 {}; 3000 N!\\n\".format(comb_degree_sin[key][0]))\n",
    "    newf.write(\"FUNCTION cosx_Sn 298.15 {}; 3000 N!\\n\".format(comb_degree_cos[key][1]))\n",
    "    newf.write(\"FUNCTION sinx_Sn 298.15 {}; 3000 N!\\n\".format(comb_degree_sin[key][1]))\n",
    "    newf.write(\"FUNCTION cos3x_Ag 298.15 {}; 3000 N!\\n\".format(comb_degree_3cos[key][0]))\n",
    "    newf.write(\"FUNCTION cos3x_Sn 298.15 {}; 3000 N!\\n\".format(comb_degree_3cos[key][1]))\n",
    "    for line in lines:\n",
    "        newf.write(line)\n",
    "    newf.close()\n",
    "    f.close\n"
   ]
  },
  {
   "cell_type": "code",
   "execution_count": 19,
   "metadata": {
    "collapsed": false
   },
   "outputs": [],
   "source": [
    "### Creating All the folders \n",
    "import os \n",
    "f = open('/Users/mahdiamachraa1/Ag-Sn/codes/Homo-final.txt')\n",
    "lines = f.readlines()\n",
    "for key in shape:\n",
    "    \n",
    "    newpath = '/Users/mahdiamachraa1/Ag-Sn/new-data/Homo-shapes-data/{}'.format(key)\n",
    "    if not os.path.exists(newpath):\n",
    "        os.makedirs(newpath)\n",
    "    for r in radii_all:\n",
    "        newf = open('/Users/mahdiamachraa1/Ag-Sn/new-data/Homo-shapes-data/{}/{}.tdb'.format(key,int(r)), 'w')\n",
    "        newf.write(\"FUNCTION factor 298.15 {}; 3000 N!\\n\".format(shape[key]))\n",
    "        newf.write(\"FUNCTION Reciprocal_Radius 298.15 {}; 3000 N!\\n\".format(r))\n",
    "        for line in lines:\n",
    "            newf.write(line)\n",
    "        newf.close()\n",
    "        f.close\n",
    "    \n",
    "    \n",
    "    \n",
    "\n",
    "    "
   ]
  },
  {
   "cell_type": "code",
   "execution_count": null,
   "metadata": {
    "collapsed": false
   },
   "outputs": [],
   "source": [
    "total_depuis_maman = 27.13 + 49.23 + 53.90 + 40.25+ 45.84 + 39.69 + 19.53 + 32 \n",
    "walid = 27.13/2 + 49.23/2 + 53.90/2\n",
    "maman_mahdi = total_depuis_maman - walid \n",
    "maman = maman_mahdi/2\n",
    "mahdi = maman\n",
    "\"walid= {} and maman = {} and mahdi = {}\".format(float(walid),float(maman),float(mahdi))"
   ]
  }
 ],
 "metadata": {
  "kernelspec": {
   "display_name": "Python 3",
   "language": "python",
   "name": "python3"
  },
  "language_info": {
   "codemirror_mode": {
    "name": "ipython",
    "version": 3
   },
   "file_extension": ".py",
   "mimetype": "text/x-python",
   "name": "python",
   "nbconvert_exporter": "python",
   "pygments_lexer": "ipython3",
   "version": "3.5.1"
  }
 },
 "nbformat": 4,
 "nbformat_minor": 0
}
